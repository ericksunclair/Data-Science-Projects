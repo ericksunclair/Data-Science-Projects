{
 "cells": [
  {
   "cell_type": "code",
   "execution_count": 1,
   "id": "cfc39303",
   "metadata": {},
   "outputs": [],
   "source": [
    "# !conda install sqlalchemy -y\n",
    "\n",
    "import sqlalchemy"
   ]
  },
  {
   "cell_type": "code",
   "execution_count": 2,
   "id": "cdca14a6",
   "metadata": {},
   "outputs": [
    {
     "data": {
      "text/plain": [
       "'1.4.7'"
      ]
     },
     "execution_count": 2,
     "metadata": {},
     "output_type": "execute_result"
    }
   ],
   "source": [
    "sqlalchemy.__version__"
   ]
  },
  {
   "cell_type": "markdown",
   "id": "125fdb05",
   "metadata": {},
   "source": [
    "# Connecting to database"
   ]
  },
  {
   "cell_type": "code",
   "execution_count": 3,
   "id": "10512d31",
   "metadata": {},
   "outputs": [],
   "source": [
    "engine = sqlalchemy.create_engine('sqlite:///enterprise.db', echo=True)"
   ]
  },
  {
   "cell_type": "markdown",
   "id": "0a0bef6e",
   "metadata": {},
   "source": [
    "# Declaring the mapping"
   ]
  },
  {
   "cell_type": "code",
   "execution_count": 4,
   "id": "cf165741",
   "metadata": {},
   "outputs": [],
   "source": [
    "from sqlalchemy.orm import declarative_base\n",
    "from sqlalchemy import Column, Integer, String"
   ]
  },
  {
   "cell_type": "code",
   "execution_count": 5,
   "id": "ee7c1042",
   "metadata": {},
   "outputs": [],
   "source": [
    "Base = declarative_base()"
   ]
  },
  {
   "cell_type": "code",
   "execution_count": 6,
   "id": "ec5ecf56",
   "metadata": {},
   "outputs": [],
   "source": [
    "class User(Base):\n",
    "    __tablename__ = 'users'   # required\n",
    "    \n",
    "    id = Column(Integer, primary_key=True)   # required\n",
    "    name = Column(String(50))\n",
    "    fullname = Column(String(50))\n",
    "    age = Column(Integer)\n",
    "    \n",
    "    def __repr__(self):\n",
    "        return \"<User(name={}, fullname={}, age={})>\".format(\n",
    "        self.name, self.fullname, self.age)"
   ]
  },
  {
   "cell_type": "code",
   "execution_count": null,
   "id": "38b67d1c",
   "metadata": {},
   "outputs": [],
   "source": []
  },
  {
   "cell_type": "markdown",
   "id": "99fbce27",
   "metadata": {},
   "source": [
    "# Creating the table on the database"
   ]
  },
  {
   "cell_type": "code",
   "execution_count": 7,
   "id": "60f66dd3",
   "metadata": {},
   "outputs": [
    {
     "name": "stdout",
     "output_type": "stream",
     "text": [
      "2023-05-07 15:59:46,011 INFO sqlalchemy.engine.Engine BEGIN (implicit)\n",
      "2023-05-07 15:59:46,014 INFO sqlalchemy.engine.Engine PRAGMA main.table_info(\"users\")\n",
      "2023-05-07 15:59:46,015 INFO sqlalchemy.engine.Engine [raw sql] ()\n",
      "2023-05-07 15:59:46,016 INFO sqlalchemy.engine.Engine PRAGMA temp.table_info(\"users\")\n",
      "2023-05-07 15:59:46,017 INFO sqlalchemy.engine.Engine [raw sql] ()\n",
      "2023-05-07 15:59:46,018 INFO sqlalchemy.engine.Engine \n",
      "CREATE TABLE users (\n",
      "\tid INTEGER NOT NULL, \n",
      "\tname VARCHAR(50), \n",
      "\tfullname VARCHAR(50), \n",
      "\tage INTEGER, \n",
      "\tPRIMARY KEY (id)\n",
      ")\n",
      "\n",
      "\n",
      "2023-05-07 15:59:46,019 INFO sqlalchemy.engine.Engine [no key 0.00059s] ()\n",
      "2023-05-07 15:59:46,212 INFO sqlalchemy.engine.Engine COMMIT\n"
     ]
    }
   ],
   "source": [
    "Base.metadata.create_all(engine)"
   ]
  },
  {
   "cell_type": "markdown",
   "id": "4fd3c691",
   "metadata": {},
   "source": [
    "# Creating instances of the class"
   ]
  },
  {
   "cell_type": "code",
   "execution_count": 8,
   "id": "9dab2124",
   "metadata": {},
   "outputs": [],
   "source": [
    "user = User(name='Enzo', fullname='Francisco Enzo', age=20)"
   ]
  },
  {
   "cell_type": "code",
   "execution_count": 9,
   "id": "1a845a1e",
   "metadata": {},
   "outputs": [
    {
     "data": {
      "text/plain": [
       "'Enzo'"
      ]
     },
     "execution_count": 9,
     "metadata": {},
     "output_type": "execute_result"
    }
   ],
   "source": [
    "user.name"
   ]
  },
  {
   "cell_type": "markdown",
   "id": "cb88e304",
   "metadata": {},
   "source": [
    "# Creating a session"
   ]
  },
  {
   "cell_type": "code",
   "execution_count": 10,
   "id": "a08e121b",
   "metadata": {},
   "outputs": [],
   "source": [
    "from sqlalchemy.orm import sessionmaker"
   ]
  },
  {
   "cell_type": "code",
   "execution_count": 11,
   "id": "64acfe09",
   "metadata": {},
   "outputs": [
    {
     "data": {
      "text/plain": [
       "sessionmaker(class_='Session', bind=Engine(sqlite:///enterprise.db), autoflush=True, autocommit=False, expire_on_commit=True)"
      ]
     },
     "execution_count": 11,
     "metadata": {},
     "output_type": "execute_result"
    }
   ],
   "source": [
    "Session = sessionmaker(bind=engine)\n",
    "Session"
   ]
  },
  {
   "cell_type": "code",
   "execution_count": 12,
   "id": "7151a6b0",
   "metadata": {},
   "outputs": [],
   "source": [
    "session = Session()"
   ]
  },
  {
   "cell_type": "markdown",
   "id": "fe468892",
   "metadata": {},
   "source": [
    "# Add objects"
   ]
  },
  {
   "cell_type": "code",
   "execution_count": 13,
   "id": "923bd1b0",
   "metadata": {},
   "outputs": [],
   "source": [
    "session.add(user)"
   ]
  },
  {
   "cell_type": "code",
   "execution_count": 14,
   "id": "b0d53190",
   "metadata": {},
   "outputs": [
    {
     "name": "stdout",
     "output_type": "stream",
     "text": [
      "2023-05-07 15:59:46,815 INFO sqlalchemy.engine.Engine BEGIN (implicit)\n",
      "2023-05-07 15:59:46,816 INFO sqlalchemy.engine.Engine INSERT INTO users (name, fullname, age) VALUES (?, ?, ?)\n",
      "2023-05-07 15:59:46,817 INFO sqlalchemy.engine.Engine [generated in 0.00054s] ('Enzo', 'Francisco Enzo', 20)\n",
      "2023-05-07 15:59:46,856 INFO sqlalchemy.engine.Engine COMMIT\n"
     ]
    }
   ],
   "source": [
    "session.commit()"
   ]
  },
  {
   "cell_type": "code",
   "execution_count": 15,
   "id": "1911e17b",
   "metadata": {},
   "outputs": [],
   "source": [
    "session.add_all([\n",
    "    User(name='Valentina', fullname='Maria Valentina', age=23),\n",
    "    User(name='Pedro', fullname='João Pedro', age=20)\n",
    "])"
   ]
  },
  {
   "cell_type": "code",
   "execution_count": 16,
   "id": "2b8a218c",
   "metadata": {},
   "outputs": [
    {
     "data": {
      "text/plain": [
       "IdentitySet([<User(name=Valentina, fullname=Maria Valentina, age=23)>, <User(name=Pedro, fullname=João Pedro, age=20)>])"
      ]
     },
     "execution_count": 16,
     "metadata": {},
     "output_type": "execute_result"
    }
   ],
   "source": [
    "# pending objects recently *added* to the Session\n",
    "session.new"
   ]
  },
  {
   "cell_type": "code",
   "execution_count": 17,
   "id": "db605b6d",
   "metadata": {},
   "outputs": [
    {
     "name": "stdout",
     "output_type": "stream",
     "text": [
      "2023-05-07 15:59:47,298 INFO sqlalchemy.engine.Engine BEGIN (implicit)\n",
      "2023-05-07 15:59:47,299 INFO sqlalchemy.engine.Engine INSERT INTO users (name, fullname, age) VALUES (?, ?, ?)\n",
      "2023-05-07 15:59:47,299 INFO sqlalchemy.engine.Engine [cached since 0.4832s ago] ('Valentina', 'Maria Valentina', 23)\n",
      "2023-05-07 15:59:47,320 INFO sqlalchemy.engine.Engine INSERT INTO users (name, fullname, age) VALUES (?, ?, ?)\n",
      "2023-05-07 15:59:47,321 INFO sqlalchemy.engine.Engine [cached since 0.5054s ago] ('Pedro', 'João Pedro', 20)\n",
      "2023-05-07 15:59:47,323 INFO sqlalchemy.engine.Engine COMMIT\n"
     ]
    }
   ],
   "source": [
    "session.commit()"
   ]
  },
  {
   "cell_type": "markdown",
   "id": "49cddbf5",
   "metadata": {},
   "source": [
    "# Query objects "
   ]
  },
  {
   "cell_type": "code",
   "execution_count": 18,
   "id": "00078498",
   "metadata": {},
   "outputs": [
    {
     "name": "stdout",
     "output_type": "stream",
     "text": [
      "2023-05-07 15:59:47,481 INFO sqlalchemy.engine.Engine BEGIN (implicit)\n",
      "2023-05-07 15:59:47,483 INFO sqlalchemy.engine.Engine SELECT users.id AS users_id, users.name AS users_name, users.fullname AS users_fullname, users.age AS users_age \n",
      "FROM users \n",
      "WHERE users.name = ?\n",
      " LIMIT ? OFFSET ?\n",
      "2023-05-07 15:59:47,484 INFO sqlalchemy.engine.Engine [generated in 0.00058s] ('Enzo', 1, 0)\n"
     ]
    }
   ],
   "source": [
    "query_user = session.query(User).filter_by(name='Enzo').first()"
   ]
  },
  {
   "cell_type": "code",
   "execution_count": 19,
   "id": "cc2f8265",
   "metadata": {},
   "outputs": [
    {
     "data": {
      "text/plain": [
       "<User(name=Enzo, fullname=Francisco Enzo, age=20)>"
      ]
     },
     "execution_count": 19,
     "metadata": {},
     "output_type": "execute_result"
    }
   ],
   "source": [
    "query_user"
   ]
  },
  {
   "cell_type": "code",
   "execution_count": 20,
   "id": "03c29f75",
   "metadata": {},
   "outputs": [
    {
     "data": {
      "text/plain": [
       "1"
      ]
     },
     "execution_count": 20,
     "metadata": {},
     "output_type": "execute_result"
    }
   ],
   "source": [
    "query_user.id"
   ]
  },
  {
   "cell_type": "code",
   "execution_count": 21,
   "id": "7cb76f83",
   "metadata": {},
   "outputs": [
    {
     "name": "stdout",
     "output_type": "stream",
     "text": [
      "2023-05-07 15:59:47,772 INFO sqlalchemy.engine.Engine SELECT users.id AS users_id, users.name AS users_name, users.fullname AS users_fullname, users.age AS users_age \n",
      "FROM users ORDER BY users.id\n",
      "2023-05-07 15:59:47,773 INFO sqlalchemy.engine.Engine [generated in 0.00106s] ()\n",
      "Enzo Francisco Enzo 20\n",
      "Valentina Maria Valentina 23\n",
      "Pedro João Pedro 20\n"
     ]
    }
   ],
   "source": [
    "for instance in session.query(User).order_by(User.id):\n",
    "    print(instance.name, instance.fullname, instance.age)"
   ]
  },
  {
   "cell_type": "code",
   "execution_count": 22,
   "id": "b147654c",
   "metadata": {},
   "outputs": [
    {
     "name": "stdout",
     "output_type": "stream",
     "text": [
      "2023-05-07 15:59:47,873 INFO sqlalchemy.engine.Engine SELECT users.name AS users_name, users.age AS users_age \n",
      "FROM users ORDER BY users.id\n",
      "2023-05-07 15:59:47,874 INFO sqlalchemy.engine.Engine [generated in 0.00056s] ()\n",
      "('Enzo', 20)\n",
      "('Valentina', 23)\n",
      "('Pedro', 20)\n"
     ]
    }
   ],
   "source": [
    "for info in session.query(User.name, User.age).order_by(User.id):\n",
    "    print(info)"
   ]
  },
  {
   "cell_type": "markdown",
   "id": "9106a1e8",
   "metadata": {},
   "source": [
    "# Modify objects"
   ]
  },
  {
   "cell_type": "code",
   "execution_count": 23,
   "id": "cdb4c47e",
   "metadata": {},
   "outputs": [
    {
     "name": "stdout",
     "output_type": "stream",
     "text": [
      "2023-05-07 15:59:48,049 INFO sqlalchemy.engine.Engine SELECT users.id AS users_id, users.name AS users_name, users.fullname AS users_fullname, users.age AS users_age \n",
      "FROM users \n",
      "WHERE users.name = ?\n",
      " LIMIT ? OFFSET ?\n",
      "2023-05-07 15:59:48,050 INFO sqlalchemy.engine.Engine [cached since 0.5668s ago] ('Enzo', 1, 0)\n"
     ]
    },
    {
     "data": {
      "text/plain": [
       "<User(name=Enzo, fullname=Francisco Enzo, age=20)>"
      ]
     },
     "execution_count": 23,
     "metadata": {},
     "output_type": "execute_result"
    }
   ],
   "source": [
    "user = session.query(User).filter_by(name='Enzo').first()\n",
    "user"
   ]
  },
  {
   "cell_type": "code",
   "execution_count": 24,
   "id": "596380a5",
   "metadata": {},
   "outputs": [],
   "source": [
    "user.fullname = \"Francisco Enzo de Souza\""
   ]
  },
  {
   "cell_type": "code",
   "execution_count": 25,
   "id": "dfd6a408",
   "metadata": {},
   "outputs": [
    {
     "data": {
      "text/plain": [
       "<User(name=Enzo, fullname=Francisco Enzo de Souza, age=20)>"
      ]
     },
     "execution_count": 25,
     "metadata": {},
     "output_type": "execute_result"
    }
   ],
   "source": [
    "user"
   ]
  },
  {
   "cell_type": "code",
   "execution_count": 26,
   "id": "8b83c310",
   "metadata": {},
   "outputs": [
    {
     "data": {
      "text/plain": [
       "IdentitySet([<User(name=Enzo, fullname=Francisco Enzo de Souza, age=20)>])"
      ]
     },
     "execution_count": 26,
     "metadata": {},
     "output_type": "execute_result"
    }
   ],
   "source": [
    "# persistent objects which currently have *changes* detected\n",
    "session.dirty"
   ]
  },
  {
   "cell_type": "code",
   "execution_count": 27,
   "id": "78634a11",
   "metadata": {},
   "outputs": [
    {
     "name": "stdout",
     "output_type": "stream",
     "text": [
      "2023-05-07 15:59:48,558 INFO sqlalchemy.engine.Engine UPDATE users SET fullname=? WHERE users.id = ?\n",
      "2023-05-07 15:59:48,560 INFO sqlalchemy.engine.Engine [generated in 0.00161s] ('Francisco Enzo de Souza', 1)\n",
      "2023-05-07 15:59:48,562 INFO sqlalchemy.engine.Engine COMMIT\n"
     ]
    }
   ],
   "source": [
    "session.commit()"
   ]
  },
  {
   "cell_type": "markdown",
   "id": "0b0af704",
   "metadata": {},
   "source": [
    "# Delete objects"
   ]
  },
  {
   "cell_type": "code",
   "execution_count": 28,
   "id": "9c38d910",
   "metadata": {},
   "outputs": [
    {
     "name": "stdout",
     "output_type": "stream",
     "text": [
      "2023-05-07 15:59:48,744 INFO sqlalchemy.engine.Engine BEGIN (implicit)\n",
      "2023-05-07 15:59:48,745 INFO sqlalchemy.engine.Engine SELECT users.id AS users_id, users.name AS users_name, users.fullname AS users_fullname, users.age AS users_age \n",
      "FROM users \n",
      "WHERE users.name = ?\n",
      " LIMIT ? OFFSET ?\n",
      "2023-05-07 15:59:48,745 INFO sqlalchemy.engine.Engine [cached since 1.262s ago] ('Valentina', 1, 0)\n"
     ]
    }
   ],
   "source": [
    "user = session.query(User).filter_by(name='Valentina').first()"
   ]
  },
  {
   "cell_type": "code",
   "execution_count": 29,
   "id": "8ee1a2e8",
   "metadata": {},
   "outputs": [
    {
     "data": {
      "text/plain": [
       "<User(name=Valentina, fullname=Maria Valentina, age=23)>"
      ]
     },
     "execution_count": 29,
     "metadata": {},
     "output_type": "execute_result"
    }
   ],
   "source": [
    "user"
   ]
  },
  {
   "cell_type": "code",
   "execution_count": 30,
   "id": "31a4b59d",
   "metadata": {},
   "outputs": [],
   "source": [
    "session.delete(user)"
   ]
  },
  {
   "cell_type": "code",
   "execution_count": 31,
   "id": "a63c3f36",
   "metadata": {},
   "outputs": [
    {
     "data": {
      "text/plain": [
       "IdentitySet([])"
      ]
     },
     "execution_count": 31,
     "metadata": {},
     "output_type": "execute_result"
    }
   ],
   "source": [
    "session.new"
   ]
  },
  {
   "cell_type": "code",
   "execution_count": 32,
   "id": "d76777d9",
   "metadata": {},
   "outputs": [
    {
     "data": {
      "text/plain": [
       "IdentitySet([])"
      ]
     },
     "execution_count": 32,
     "metadata": {},
     "output_type": "execute_result"
    }
   ],
   "source": [
    "session.dirty"
   ]
  },
  {
   "cell_type": "code",
   "execution_count": 33,
   "id": "24b7e6d2",
   "metadata": {},
   "outputs": [
    {
     "data": {
      "text/plain": [
       "IdentitySet([<User(name=Valentina, fullname=Maria Valentina, age=23)>])"
      ]
     },
     "execution_count": 33,
     "metadata": {},
     "output_type": "execute_result"
    }
   ],
   "source": [
    "# persistent objects that have been marked as *deleted* via session.delete(obj)\n",
    "\n",
    "session.deleted"
   ]
  },
  {
   "cell_type": "code",
   "execution_count": 34,
   "id": "05bc5dd9",
   "metadata": {},
   "outputs": [
    {
     "name": "stdout",
     "output_type": "stream",
     "text": [
      "2023-05-07 15:59:49,375 INFO sqlalchemy.engine.Engine DELETE FROM users WHERE users.id = ?\n",
      "2023-05-07 15:59:49,376 INFO sqlalchemy.engine.Engine [generated in 0.00098s] (2,)\n",
      "2023-05-07 15:59:49,420 INFO sqlalchemy.engine.Engine COMMIT\n"
     ]
    }
   ],
   "source": [
    "session.commit()"
   ]
  },
  {
   "cell_type": "code",
   "execution_count": 35,
   "id": "32681ccc",
   "metadata": {},
   "outputs": [
    {
     "name": "stdout",
     "output_type": "stream",
     "text": [
      "2023-05-07 15:59:49,588 INFO sqlalchemy.engine.Engine BEGIN (implicit)\n",
      "2023-05-07 15:59:49,590 INFO sqlalchemy.engine.Engine SELECT count(*) AS count_1 \n",
      "FROM (SELECT users.id AS users_id, users.name AS users_name, users.fullname AS users_fullname, users.age AS users_age \n",
      "FROM users \n",
      "WHERE users.name = ?) AS anon_1\n",
      "2023-05-07 15:59:49,591 INFO sqlalchemy.engine.Engine [generated in 0.00079s] ('Valentina',)\n"
     ]
    },
    {
     "data": {
      "text/plain": [
       "0"
      ]
     },
     "execution_count": 35,
     "metadata": {},
     "output_type": "execute_result"
    }
   ],
   "source": [
    "session.query(User).filter_by(name='Valentina').count()"
   ]
  },
  {
   "cell_type": "code",
   "execution_count": null,
   "id": "c9b16f71",
   "metadata": {},
   "outputs": [],
   "source": []
  }
 ],
 "metadata": {
  "kernelspec": {
   "display_name": "Python 3 (ipykernel)",
   "language": "python",
   "name": "python3"
  },
  "language_info": {
   "codemirror_mode": {
    "name": "ipython",
    "version": 3
   },
   "file_extension": ".py",
   "mimetype": "text/x-python",
   "name": "python",
   "nbconvert_exporter": "python",
   "pygments_lexer": "ipython3",
   "version": "3.8.8"
  }
 },
 "nbformat": 4,
 "nbformat_minor": 5
}
